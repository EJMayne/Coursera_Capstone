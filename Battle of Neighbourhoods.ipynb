{
 "cells": [
  {
   "cell_type": "markdown",
   "metadata": {},
   "source": [
    "# Battle of Neighbourhoods"
   ]
  },
  {
   "cell_type": "code",
   "execution_count": null,
   "metadata": {},
   "outputs": [],
   "source": []
  },
  {
   "cell_type": "markdown",
   "metadata": {},
   "source": [
    "Import libraries:"
   ]
  },
  {
   "cell_type": "code",
   "execution_count": 24,
   "metadata": {},
   "outputs": [],
   "source": [
    "import urllib.request\n",
    "from bs4 import BeautifulSoup\n",
    "import numpy as np\n",
    "from geopy.geocoders import Nominatim\n",
    "import matplotlib.cm as cm\n",
    "import matplotlib.colors as colors\n",
    "from sklearn.cluster import KMeans\n",
    "import folium \n",
    "import requests\n",
    "from pandas.io.json import json_normalize"
   ]
  },
  {
   "cell_type": "markdown",
   "metadata": {},
   "source": [
    "Use urllib and BeautifulSoup to get the wikitable data as html then initialise empty lists for each column and loop through the items in the wikitable and append to lists:"
   ]
  },
  {
   "cell_type": "code",
   "execution_count": 25,
   "metadata": {},
   "outputs": [],
   "source": [
    "url = 'https://en.wikipedia.org/wiki/London_postal_district'\n",
    "page = urllib.request.urlopen(url)\n",
    "soup = BeautifulSoup(page,'html.parser')\n",
    "\n",
    "postal_code = []\n",
    "borough = []\n",
    "neighbourhood = []"
   ]
  },
  {
   "cell_type": "code",
   "execution_count": 48,
   "metadata": {},
   "outputs": [],
   "source": [
    "postal_code = []\n",
    "borough = []\n",
    "neighbourhood = []\n",
    "\n",
    "for items in soup.find('table', class_='wikitable').find_all('tr')[1::1]:\n",
    "    data = items.find_all(['th','td'])\n",
    "    borough.append(data[1].find(text=True))\n",
    "    neighbourhood.append(data[2].find(text=True))\n",
    "    postal_code.append(data[0].find(text=True)) "
   ]
  },
  {
   "cell_type": "code",
   "execution_count": 49,
   "metadata": {},
   "outputs": [
    {
     "data": {
      "text/plain": [
       "[<td><a href=\"/wiki/N_postcode_area\" title=\"N postcode area\">N</a></td>,\n",
       " <td><i>Northern</i></td>,\n",
       " <td><b>N1 Head district</b><br/> N2 East Finchley<br/> N3 Finchley<br/> N4 Finsbury Park<br/> N5 Highbury<br/> N6 Highgate<br/> N7 Holloway<br/>N8 Hornsey<br/> N9 Lower Edmonton<br/> N10 Muswell Hill<br/> N11 New Southgate<br/> N12 North Finchley<br/> N13 Palmers Green<br/> N14 Southgate<br/> N15 South Tottenham<br/> N16 Stoke Newington<br/> N17 Tottenham<br/> N18 Upper Edmonton<br/> N19 Upper Holloway<br/> N20 Whetstone<br/> N21 Winchmore Hill<br/> N22 Wood Green\n",
       " </td>]"
      ]
     },
     "execution_count": 49,
     "metadata": {},
     "output_type": "execute_result"
    }
   ],
   "source": [
    "data"
   ]
  },
  {
   "cell_type": "markdown",
   "metadata": {},
   "source": [
    "Get Regional Gross Disposable Household Income dataset from the gov website: (https://www.ons.gov.uk/economy/regionalaccounts/grossdisposablehouseholdincome/datasets/regionalgrossdisposablehouseholdincomebylocalauthoritiesbynuts1region)"
   ]
  },
  {
   "cell_type": "code",
   "execution_count": 21,
   "metadata": {},
   "outputs": [
    {
     "data": {
      "text/html": [
       "<div>\n",
       "<style scoped>\n",
       "    .dataframe tbody tr th:only-of-type {\n",
       "        vertical-align: middle;\n",
       "    }\n",
       "\n",
       "    .dataframe tbody tr th {\n",
       "        vertical-align: top;\n",
       "    }\n",
       "\n",
       "    .dataframe thead th {\n",
       "        text-align: right;\n",
       "    }\n",
       "</style>\n",
       "<table border=\"1\" class=\"dataframe\">\n",
       "  <thead>\n",
       "    <tr style=\"text-align: right;\">\n",
       "      <th></th>\n",
       "      <th>Region</th>\n",
       "      <th>LAD code</th>\n",
       "      <th>Region name</th>\n",
       "      <th>1997</th>\n",
       "      <th>1998</th>\n",
       "      <th>1999</th>\n",
       "      <th>2000</th>\n",
       "      <th>2001</th>\n",
       "      <th>2002</th>\n",
       "      <th>2003</th>\n",
       "      <th>...</th>\n",
       "      <th>2009</th>\n",
       "      <th>2010</th>\n",
       "      <th>2011</th>\n",
       "      <th>2012</th>\n",
       "      <th>2013</th>\n",
       "      <th>2014</th>\n",
       "      <th>2015</th>\n",
       "      <th>2016</th>\n",
       "      <th>2017</th>\n",
       "      <th>2018</th>\n",
       "    </tr>\n",
       "  </thead>\n",
       "  <tbody>\n",
       "    <tr>\n",
       "      <th>0</th>\n",
       "      <td>London</td>\n",
       "      <td>E09000001</td>\n",
       "      <td>City of London</td>\n",
       "      <td>462.0</td>\n",
       "      <td>514.0</td>\n",
       "      <td>543.0</td>\n",
       "      <td>603.0</td>\n",
       "      <td>625.0</td>\n",
       "      <td>627.0</td>\n",
       "      <td>646.0</td>\n",
       "      <td>...</td>\n",
       "      <td>1036.0</td>\n",
       "      <td>992.0</td>\n",
       "      <td>989.0</td>\n",
       "      <td>1075.0</td>\n",
       "      <td>1202.0</td>\n",
       "      <td>1296.0</td>\n",
       "      <td>1426.0</td>\n",
       "      <td>1462.0</td>\n",
       "      <td>1487.0</td>\n",
       "      <td>1673.0</td>\n",
       "    </tr>\n",
       "    <tr>\n",
       "      <th>1</th>\n",
       "      <td>London</td>\n",
       "      <td>E09000007</td>\n",
       "      <td>Camden</td>\n",
       "      <td>3050.0</td>\n",
       "      <td>3348.0</td>\n",
       "      <td>3697.0</td>\n",
       "      <td>4236.0</td>\n",
       "      <td>4373.0</td>\n",
       "      <td>4401.0</td>\n",
       "      <td>4510.0</td>\n",
       "      <td>...</td>\n",
       "      <td>7450.0</td>\n",
       "      <td>7222.0</td>\n",
       "      <td>7134.0</td>\n",
       "      <td>7813.0</td>\n",
       "      <td>8710.0</td>\n",
       "      <td>9151.0</td>\n",
       "      <td>9954.0</td>\n",
       "      <td>10332.0</td>\n",
       "      <td>10274.0</td>\n",
       "      <td>11170.0</td>\n",
       "    </tr>\n",
       "    <tr>\n",
       "      <th>2</th>\n",
       "      <td>London</td>\n",
       "      <td>E09000033</td>\n",
       "      <td>Westminster</td>\n",
       "      <td>3813.0</td>\n",
       "      <td>4044.0</td>\n",
       "      <td>4496.0</td>\n",
       "      <td>5118.0</td>\n",
       "      <td>5353.0</td>\n",
       "      <td>5435.0</td>\n",
       "      <td>5623.0</td>\n",
       "      <td>...</td>\n",
       "      <td>8980.0</td>\n",
       "      <td>8789.0</td>\n",
       "      <td>8741.0</td>\n",
       "      <td>9588.0</td>\n",
       "      <td>10671.0</td>\n",
       "      <td>11460.0</td>\n",
       "      <td>12674.0</td>\n",
       "      <td>12906.0</td>\n",
       "      <td>13190.0</td>\n",
       "      <td>14004.0</td>\n",
       "    </tr>\n",
       "    <tr>\n",
       "      <th>3</th>\n",
       "      <td>London</td>\n",
       "      <td>E09000013</td>\n",
       "      <td>Hammersmith and Fulham</td>\n",
       "      <td>2894.0</td>\n",
       "      <td>2948.0</td>\n",
       "      <td>3208.0</td>\n",
       "      <td>3559.0</td>\n",
       "      <td>3657.0</td>\n",
       "      <td>3657.0</td>\n",
       "      <td>3757.0</td>\n",
       "      <td>...</td>\n",
       "      <td>5613.0</td>\n",
       "      <td>5549.0</td>\n",
       "      <td>5366.0</td>\n",
       "      <td>5759.0</td>\n",
       "      <td>6411.0</td>\n",
       "      <td>6801.0</td>\n",
       "      <td>7140.0</td>\n",
       "      <td>7004.0</td>\n",
       "      <td>7082.0</td>\n",
       "      <td>7587.0</td>\n",
       "    </tr>\n",
       "    <tr>\n",
       "      <th>4</th>\n",
       "      <td>London</td>\n",
       "      <td>E09000020</td>\n",
       "      <td>Kensington and Chelsea</td>\n",
       "      <td>5358.0</td>\n",
       "      <td>5359.0</td>\n",
       "      <td>5702.0</td>\n",
       "      <td>6389.0</td>\n",
       "      <td>6569.0</td>\n",
       "      <td>6529.0</td>\n",
       "      <td>6712.0</td>\n",
       "      <td>...</td>\n",
       "      <td>10171.0</td>\n",
       "      <td>9763.0</td>\n",
       "      <td>9527.0</td>\n",
       "      <td>10380.0</td>\n",
       "      <td>11589.0</td>\n",
       "      <td>12533.0</td>\n",
       "      <td>13097.0</td>\n",
       "      <td>12764.0</td>\n",
       "      <td>12841.0</td>\n",
       "      <td>14033.0</td>\n",
       "    </tr>\n",
       "  </tbody>\n",
       "</table>\n",
       "<p>5 rows × 25 columns</p>\n",
       "</div>"
      ],
      "text/plain": [
       "   Region   LAD code             Region name    1997    1998    1999    2000  \\\n",
       "0  London  E09000001          City of London   462.0   514.0   543.0   603.0   \n",
       "1  London  E09000007                  Camden  3050.0  3348.0  3697.0  4236.0   \n",
       "2  London  E09000033             Westminster  3813.0  4044.0  4496.0  5118.0   \n",
       "3  London  E09000013  Hammersmith and Fulham  2894.0  2948.0  3208.0  3559.0   \n",
       "4  London  E09000020  Kensington and Chelsea  5358.0  5359.0  5702.0  6389.0   \n",
       "\n",
       "     2001    2002    2003  ...     2009    2010    2011     2012     2013  \\\n",
       "0   625.0   627.0   646.0  ...   1036.0   992.0   989.0   1075.0   1202.0   \n",
       "1  4373.0  4401.0  4510.0  ...   7450.0  7222.0  7134.0   7813.0   8710.0   \n",
       "2  5353.0  5435.0  5623.0  ...   8980.0  8789.0  8741.0   9588.0  10671.0   \n",
       "3  3657.0  3657.0  3757.0  ...   5613.0  5549.0  5366.0   5759.0   6411.0   \n",
       "4  6569.0  6529.0  6712.0  ...  10171.0  9763.0  9527.0  10380.0  11589.0   \n",
       "\n",
       "      2014     2015     2016     2017     2018  \n",
       "0   1296.0   1426.0   1462.0   1487.0   1673.0  \n",
       "1   9151.0   9954.0  10332.0  10274.0  11170.0  \n",
       "2  11460.0  12674.0  12906.0  13190.0  14004.0  \n",
       "3   6801.0   7140.0   7004.0   7082.0   7587.0  \n",
       "4  12533.0  13097.0  12764.0  12841.0  14033.0  \n",
       "\n",
       "[5 rows x 25 columns]"
      ]
     },
     "execution_count": 21,
     "metadata": {},
     "output_type": "execute_result"
    }
   ],
   "source": [
    "gdhi = pd.read_excel(r\"~/Documents/regionalgrossdisposablehouseholdincomelocalauthorityukilondon.xls\", sheet_name=\"Table 1\", skiprows=1)\n",
    "gdhi.rename(columns={\"20182\": \"2018\"},inplace=True)\n",
    "gdhi.dropna(inplace=True)\n",
    "gdhi.head(5)"
   ]
  },
  {
   "cell_type": "markdown",
   "metadata": {},
   "source": []
  },
  {
   "cell_type": "code",
   "execution_count": null,
   "metadata": {},
   "outputs": [],
   "source": []
  },
  {
   "cell_type": "code",
   "execution_count": null,
   "metadata": {},
   "outputs": [],
   "source": []
  }
 ],
 "metadata": {
  "kernelspec": {
   "display_name": "Python 3",
   "language": "python",
   "name": "python3"
  },
  "language_info": {
   "codemirror_mode": {
    "name": "ipython",
    "version": 3
   },
   "file_extension": ".py",
   "mimetype": "text/x-python",
   "name": "python",
   "nbconvert_exporter": "python",
   "pygments_lexer": "ipython3",
   "version": "3.7.9"
  }
 },
 "nbformat": 4,
 "nbformat_minor": 4
}
